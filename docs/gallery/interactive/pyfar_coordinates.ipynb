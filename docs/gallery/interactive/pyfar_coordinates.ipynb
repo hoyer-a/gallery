{
 "cells": [
  {
   "attachments": {},
   "cell_type": "markdown",
   "metadata": {},
   "source": [
    "## Coordinates\n",
    "\n",
    "In acoustics research, we often deal with different coordinate systems when handling sampling points. This can get complicated. That's why we have the Coordinates class in pyfar. The [pyfar.Coordinates](https://pyfar.readthedocs.io/en/stable/classes/pyfar.coordinates.html) was designed for storing, working with, and accessing coordinate points. You can easily switch between different coordinate systems, rotate points, and do other useful stuff. For example, you can store microphone positions in a spherical microphone array or loudspeaker positions in a sound field synthesis system."
   ]
  },
  {
   "cell_type": "code",
   "execution_count": null,
   "metadata": {},
   "outputs": [],
   "source": [
    "import pyfar as pf\n",
    "import numpy as np\n",
    "%matplotlib inline"
   ]
  },
  {
   "cell_type": "markdown",
   "metadata": {},
   "source": [
    "## Supported Coordinate systems\n",
    "\n",
    "Coordinate systems come in different flavors, like cartesian, spherical or cylindrical, where spherical has a couple of subdefinitions. A coordinate system is defined by a set of coordinates, e.g. ``cartesian`` consists of the coordinates ``x``, ``y``, and ``z``.\n",
    "The image below shows the available coordinate systems.\n",
    "![alt text](../../resources/coordinate_systems.png)\n",
    "\n",
    "Note that each coordinate has a unique name. If a coordinate is contained in multiple coordinate systems (e.g. 'z' in cartesian and cylindrical) this means the values for z are the same in both cases.\n",
    "\n",
    "|Coordinate |Descriptions |\n",
    "|-------------|:-------------|\n",
    "|x, y, z |x, y, z coordinate of a right handed Cartesian coordinate system in meter ($\\infty$ < x,y,z < $\\infty$ ).|\n",
    "|azimuth |Counter clock-wise angle in the x-y plane of the right handed Cartesian coordinate system in radians. $0$ radians are defined in positive x-direction, $\\pi/2$ radians in positive y-direction and so on ($\\infty$ < azimuth < $\\infty$ , $2\\pi$ -cyclic).|\n",
    "|elevation |Angle in the x-z plane of the right handed Cartesian coordinate system in radians. $0$ radians elevation are defined in positive z-direction, $\\pi/2$ radians in positive x-direction, and $\\pi$ in negative z-direction ($\\pi/2$ < elevation < $\\pi/2$ ). The elevation is a variation of the elevation angle.|\n",
    "|colatitude |Angle in the x-z plane of the right handed Cartesian coordinate system in radians. $0$ radians colatitude are defined in positive x-direction, $\\pi/2$ radians in positive z-direction, and $-\\pi/2$ in negative z-direction ($0$ < colatitude < $\\pi$). The colatitude is a variation of the colatitude.|\n",
    "|lateral |Counter clock-wise angle in the x-y plane of the right handed Cartesian coordinate system in radians. $0$ radians are defined in positive x-direction, $\\pi/2$ radians in positive y-direction and $-\\pi/2$ in negative y-direction ($-\\pi/2$ < lateral < $\\pi/2$ )|\n",
    "|polar |Angle in the x-z plane of the right handed Cartesian coordinate system in radians. $0$ radians elevation are defined in positive x-direction, $\\pi/2$ radians in positive z-direction, $\\pi$ in negative x-direction and so on ($\\infty$ < polar < $\\infty$ , $2\\pi$ -cyclic).|\n",
    "|frontal |Angle in the y-z plane of the right handed Cartesian coordinate system in radians. $0$ radians elevation are defined in positive y-direction, $\\pi/2$ radians in positive z-direction, $\\pi$ in negative y-direction and so on ($\\infty$ < frontal < $\\infty$ , $2\\pi$ -cyclic).|\n",
    "|upper |Angle in the x-z plane of the right handed Cartesian coordinate system in radians. $0$ radians elevation are defined in positive x-direction, $\\pi/2$ radians in positive z-direction, and $\\pi$ in negative x-direction ($0$ < upper < $\\pi$).|\n",
    "|radius |Distance to the origin of the right handed Cartesian coordinate system in meters ($0$ < radius < $\\infty$ ).|\n",
    "|rho |Distance perpendicular to the the z-axis of the right handed Cartesian coordinate system ($0$ < rho < $\\infty$ ).|\n"
   ]
  },
  {
   "cell_type": "markdown",
   "metadata": {},
   "source": [
    "## Entering coordinate points\n",
    "\n",
    "You can input coordinate points manually into the system. By default, the system assumes cartesian coordinates."
   ]
  },
  {
   "cell_type": "code",
   "execution_count": null,
   "metadata": {},
   "outputs": [],
   "source": [
    "# create a coordinates object with x values from -5 to 5 any y and z values 0\n",
    "c = pf.Coordinates(np.arange(-5, 6), 0, 0)\n",
    "# plot the sampling points\n",
    "c.show()"
   ]
  },
  {
   "attachments": {},
   "cell_type": "markdown",
   "metadata": {},
   "source": [
    "To initialize `Coordinates` objects for different coordinate systems, you can use specific constructors like `pf.Coordinates.from_spherical_elevation(azimuth, elevation, radius)`. The naming convention for these constructors is always `pf.Coordinates.from_coordinate_system(red, green, blue)`, where `coordinate_system` should be replaced with the desired coordinate system, and `red`, `green`, `blue` describe the order of the coordinate properties. The colors and the `coordinate_system` names can be found in the figure above. Remember, angles are always defined in radians.\n",
    "\n",
    "For more details, you can refer to the [coordinate class documentation](https://pyfar.readthedocs.io/en/latest/classes/pyfar.coordinates.html)."
   ]
  },
  {
   "cell_type": "code",
   "execution_count": null,
   "metadata": {},
   "outputs": [],
   "source": [
    "azimuth_angles = np.arange(0, 2*np.pi, np.pi/20)\n",
    "c1 = pf.Coordinates.from_spherical_elevation(azimuth_angles, 0, 1)\n",
    "c1.show()"
   ]
  },
  {
   "cell_type": "markdown",
   "metadata": {},
   "source": [
    "## Meta data\n",
    "\n",
    "Lets have a look at the other data. At first we can print the coordinate object.\n"
   ]
  },
  {
   "cell_type": "code",
   "execution_count": null,
   "metadata": {},
   "outputs": [],
   "source": [
    "print(c1)"
   ]
  },
  {
   "cell_type": "markdown",
   "metadata": {},
   "source": [
    "We can observe that there are 40 coordinate points in the object. This refers to the attribute *coordinate size* or in short `csize`.\n"
   ]
  },
  {
   "cell_type": "code",
   "execution_count": null,
   "metadata": {},
   "outputs": [],
   "source": [
    "c1.csize"
   ]
  },
  {
   "cell_type": "markdown",
   "metadata": {},
   "source": [
    "The *coordinate shape* or in short `cshape` of the data is (40,) and specifies how the 40 coordinate points are organized. In this case they are organized in a single dimension, but *Coordinates* of `csize = 40` could for example also be organized in a `cshape = (2, 20)` because the `csize` is the product of the `cshape`."
   ]
  },
  {
   "cell_type": "code",
   "execution_count": null,
   "metadata": {},
   "outputs": [],
   "source": [
    "c1.cshape"
   ]
  },
  {
   "cell_type": "markdown",
   "metadata": {},
   "source": [
    "Similarly, `cdim` returns the number of dimensions of the coordinate points, which is given by the length of the `cshape` and is `1` in this case."
   ]
  },
  {
   "cell_type": "code",
   "execution_count": null,
   "metadata": {},
   "outputs": [],
   "source": [
    "c1.cdim"
   ]
  },
  {
   "cell_type": "markdown",
   "metadata": {},
   "source": [
    "The `cshape`, `csize`, and `cdim` attributes are similar to numpy's `shape`, `size`, and `dim` of each coordinate.\n"
   ]
  },
  {
   "attachments": {},
   "cell_type": "markdown",
   "metadata": {},
   "source": [
    "## Retrieving coordinate points\n",
    "\n",
    "There are different ways to retrieve points from a `Coordinates` object. All points can be obtained in cartesian, spherical, and cylindrical coordinates using the related properties `c.cartesian`, `c.sperical_evaluation` and `c.cylindrical`. Also single properties of each coordinate system convention can be accessed by e.g. `c.azimuth`, `c.radius` or `c.x`. Visit the [coordinate class](https://pyfar.readthedocs.io/en/latest/classes/pyfar.coordinates.html) for more details."
   ]
  },
  {
   "cell_type": "code",
   "execution_count": null,
   "metadata": {},
   "outputs": [],
   "source": [
    "cartesian_coordinates = c.cartesian\n",
    "cartesian_coordinates"
   ]
  },
  {
   "cell_type": "markdown",
   "metadata": {},
   "source": [
    "Of course, we can convert it into other coordinate systems as well. Note that it returns angles always in radiance.\n",
    "\n",
    "Internally, the points are stored as cartesian coordinates and converted upon request. This may cause small numerical inaccuracies in the range of $\approx 10^{-16}$, during internal conversions."
   ]
  },
  {
   "cell_type": "code",
   "execution_count": null,
   "metadata": {},
   "outputs": [],
   "source": [
    "c.spherical_elevation"
   ]
  },
  {
   "cell_type": "markdown",
   "metadata": {},
   "source": [
    "We can also directly access certain coordinates."
   ]
  },
  {
   "cell_type": "code",
   "execution_count": null,
   "metadata": {},
   "outputs": [],
   "source": [
    "c.azimuth"
   ]
  },
  {
   "cell_type": "markdown",
   "metadata": {},
   "source": [
    "## Manipulating points\n",
    "the previous attributes can also be used to manipualte the data."
   ]
  },
  {
   "cell_type": "code",
   "execution_count": null,
   "metadata": {},
   "outputs": [],
   "source": [
    "azimuth = c.azimuth\n",
    "azimuth[0] = 0\n",
    "c.azimuth = azimuth\n",
    "c.azimuth"
   ]
  },
  {
   "cell_type": "markdown",
   "metadata": {},
   "source": [
    "## Find a specific subset\n",
    "Different methods are available for obtaining a specific subset of coordinates.\n"
   ]
  },
  {
   "cell_type": "markdown",
   "metadata": {},
   "source": [
    "### Find nearest\n",
    "The first method is to find the nearest points in a subset. We need to define one or more coordinates which we want to find."
   ]
  },
  {
   "cell_type": "code",
   "execution_count": null,
   "metadata": {},
   "outputs": [],
   "source": [
    "find = pf.Coordinates.from_spherical_colatitude(270/180*np.pi, 90/180*np.pi, 1)\n",
    "index_out, distance = c.find_nearest(find)\n",
    "c.show(index_out)"
   ]
  },
  {
   "cell_type": "markdown",
   "metadata": {},
   "source": [
    "If we want to find the nearest 3 points, then we need to set `k=3`. In this example we highlight the second nearest point."
   ]
  },
  {
   "cell_type": "code",
   "execution_count": null,
   "metadata": {},
   "outputs": [],
   "source": [
    "index_out, distance = c.find_nearest(find, k=3)\n",
    "c.show(index_out[1])"
   ]
  },
  {
   "cell_type": "markdown",
   "metadata": {},
   "source": [
    "Note that the distance to the finding points is also returned."
   ]
  },
  {
   "cell_type": "code",
   "execution_count": null,
   "metadata": {},
   "outputs": [],
   "source": [
    "distance"
   ]
  },
  {
   "cell_type": "markdown",
   "metadata": {},
   "source": [
    "Of course you can also get a copy of the points, if want to continue working just with the subset."
   ]
  },
  {
   "cell_type": "code",
   "execution_count": null,
   "metadata": {},
   "outputs": [],
   "source": [
    "p_1 = c[index_out[1]]\n",
    "p_1"
   ]
  },
  {
   "cell_type": "markdown",
   "metadata": {},
   "source": [
    "### Find within\n",
    "Another option is to find all points in a certain area around different points. Different distance measures are available see the [pyfar documentation](https://pyfar.readthedocs.io/en/latest/classes/pyfar.coordinates.html#pyfar.classes.coordinates.Coordinates.find_within) for more information."
   ]
  },
  {
   "cell_type": "code",
   "execution_count": null,
   "metadata": {},
   "outputs": [],
   "source": [
    "# Find all points within a distance of 3 from the point find\n",
    "index_out = c.find_within(find, distance=3, distance_measure='euclidean')\n",
    "c.show(index_out)"
   ]
  },
  {
   "cell_type": "markdown",
   "metadata": {},
   "source": [
    "### Logical operations with attributes\n",
    "\n",
    "Another way is to use logical operations on the coordinates attributed directly.\n",
    "As an example, we create a half arc. Then to obtain all points within a between 30° and 60° elevation, we just need to apply logical operations as follows."
   ]
  },
  {
   "cell_type": "code",
   "execution_count": null,
   "metadata": {},
   "outputs": [],
   "source": [
    "c2 = pf.Coordinates.from_spherical_colatitude(0, np.arange(0, 181, 10)*np.pi/180, 1)\n",
    "index_out = (c2.elevation*180/np.pi >= 30) & (c2.elevation*180/np.pi <= 60)  \n",
    "c2.show(np.where(index_out))"
   ]
  },
  {
   "cell_type": "markdown",
   "metadata": {},
   "source": [
    "## Rotating coordinates\n",
    "\n",
    "You can apply rotations using quaternions, rotation vectors/matrixes and euler angles with  `c.rotate()`, which is a wrapper for [scipy.spatial.transform.Rotation](https://docs.scipy.org/doc/scipy/reference/generated/scipy.spatial.transform.Rotation.html). For example rotating around the y-axis by 45 degrees can be done with"
   ]
  },
  {
   "cell_type": "code",
   "execution_count": null,
   "metadata": {},
   "outputs": [],
   "source": [
    "c.rotate('y', 45)\n",
    "c.show()"
   ]
  },
  {
   "cell_type": "markdown",
   "metadata": {},
   "source": [
    "Note that this changes the points inside the `Coordinates` object, which means that you have to be careful not to apply the rotation multiple times, i.e., when evaluationg cells during debugging."
   ]
  }
 ],
 "metadata": {
  "kernelspec": {
   "display_name": "pyfar",
   "language": "python",
   "name": "python3"
  },
  "language_info": {
   "codemirror_mode": {
    "name": "ipython",
    "version": 3
   },
   "file_extension": ".py",
   "mimetype": "text/x-python",
   "name": "python",
   "nbconvert_exporter": "python",
   "pygments_lexer": "ipython3",
   "version": "3.11.7"
  },
  "vscode": {
   "interpreter": {
    "hash": "31fda18d23bccfca635c34b8e2ae5cca9cc1e70ba24d7dd63263c3d313ebed7d"
   }
  }
 },
 "nbformat": 4,
 "nbformat_minor": 4
}
