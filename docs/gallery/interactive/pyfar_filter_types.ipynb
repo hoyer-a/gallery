{
 "cells": [
  {
   "cell_type": "markdown",
   "metadata": {},
   "source": [
    "## Overview of pyfar Filter types\n",
    "\n",
    "The [`pyfar.dsp.filter`](https://pyfar.readthedocs.io/en/stable/modules/pyfar.dsp.filter.html) module contains different filter types that are briefly introduced in the following. The filters can be used to directly filter pyfar *Signals* or can return a pyfar *Filter* object. For more information on this refer to the `LINK-TO-FILTERING-EXAMPLES` and `LINK-TO-AUDIO-OBJECT-EXAMPLES`."
   ]
  },
  {
   "cell_type": "markdown",
   "metadata": {},
   "source": [
    "### High-pass, low-pass, band-pass, and band-stop filters\n",
    "\n",
    "These are the classic filters that are wrapped from *scipy.signal* and\n",
    "available from the functions [`pyfar.dsp.filter.butterworth`](https://pyfar.readthedocs.io/en/stable/modules/pyfar.dsp.filter.html#pyfar.dsp.filter.butterworth), [`pyfar.dsp.filter.bessel`](https://pyfar.readthedocs.io/en/stable/modules/pyfar.dsp.filter.html#pyfar.dsp.filter.bessel), [`pyfar.dsp.filter.chebyshev1`](https://pyfar.readthedocs.io/en/stable/modules/pyfar.dsp.filter.html#pyfar.dsp.filter.chebyshev1), [`pyfar.dsp.filter.chebyshev2`](https://pyfar.readthedocs.io/en/stable/modules/pyfar.dsp.filter.html#pyfar.dsp.filter.chebyshev2), and [`pyfar.dsp.filter.elliptic`](https://pyfar.readthedocs.io/en/stable/modules/pyfar.dsp.filter.html#pyfar.dsp.filter.elliptic).\n",
    "\n",
    "![Standard filter types](../../resources/filter_types_standard.png)"
   ]
  },
  {
   "cell_type": "markdown",
   "metadata": {},
   "source": [
    "### Linkwitz-Riley cross-over\n",
    "\n",
    "The function [`pyfar.dsp.filter.crossover`](https://pyfar.readthedocs.io/en/stable/modules/pyfar.dsp.filter.html#pyfar.dsp.filter.crossover) implements Linkwitz-Riley cross-over filters that are often used in loudspeaker design. The magnitude of the filters at the cross-over frequency is -6 dB and because the filters are in phase, their output adds to a constant magnitude response.\n",
    "\n",
    "![Linkwitz-Riley crossofer filter](../../resources/filter_types_crossover.png)"
   ]
  },
  {
   "cell_type": "markdown",
   "metadata": {},
   "source": [
    "### Filter banks\n",
    "\n",
    "Filter banks are commonly used in audio and acoustics signal processing and pyfar contains the following filter banks:\n",
    "\n",
    "The fractional octave filter bank implemented in [`pyfar.dsp.filter.fractional_octave_bands`](https://pyfar.readthedocs.io/en/stable/modules/pyfar.dsp.filter.html#pyfar.dsp.filter.fractional_octave_bands) is often used for calculating room acoustic parameters. The magnitude responses at the cut-off frequencies are -3 dB and hence the filter bank is approximately energy preserving.\n",
    "\n",
    "![Filter banks](../../resources/filter_types_filterbank_frac.png)\n",
    "\n",
    "The reconstructing fractional octave filter bank implemented in [`pyfar.dsp.filter.reconstructing_fractional_octave_bands`](https://pyfar.readthedocs.io/en/stable/modules/pyfar.dsp.filter.html#pyfar.dsp.filter.reconstructing_fractional_octave_bands) has -6 dB cut off frequencies and a linear phase response. This makes sure that any input can be perfectly reconstructed by summing the input, at the cost of adding a frequency independent delay of half the filter length. This filter bank can for example be used for room acoustical simulations.\n",
    "\n",
    "![Filter banks](../../resources/filter_types_filterbank_frac_rec.png)\n",
    "\n",
    "\n",
    "The auditory gammatone filter bank implemented in [`pyfar.dsp.filter.GammatoneBands`](https://pyfar.readthedocs.io/en/stable/modules/pyfar.dsp.filter.html#pyfar.dsp.filter.GammatoneBands) mimics the frequency selectivity of the human auditory system. It is almost perfectly reconstructing and is often used for binaural modeling. It is a direct port of the famous [Hohmann2002](https://www.amtoolbox.org/amt-1.2.0/doc/demos/demo_hohmann2002.php) filter bank from the auditory modeling toolbox.\n",
    "\n",
    "![Filter banks](../../resources/filter_types_filterbank_gamma.png)\n",
    "\n",
    "The corresponding center frequencies are accessible via [`pyfar.dsp.filter.fractional_octave_frequencies`](https://pyfar.readthedocs.io/en/stable/modules/pyfar.dsp.filter.html#pyfar.dsp.filter.fractional_octave_frequencies) and\n",
    "[`pyfar.dsp.filter.erb_frequencies`](https://pyfar.readthedocs.io/en/stable/modules/pyfar.dsp.filter.html#pyfar.dsp.filter.erb_frequencies)."
   ]
  },
  {
   "cell_type": "markdown",
   "metadata": {},
   "source": [
    "### Parametric equalizer\n",
    "\n",
    "Parametric equalizers are specific filters used for example for audio effects or loudspeaker and room equalization. The *bell* filters implemented in [`pyfar.dsp.filter.bell`](https://pyfar.readthedocs.io/en/stable/modules/pyfar.dsp.filter.html#pyfar.dsp.filter.bell) manipulate the magnitude response around a center-frequency. The *shelve* filters implemented in [`pyfar.dsp.filter.high_shelve`](https://pyfar.readthedocs.io/en/stable/modules/pyfar.dsp.filter.html#pyfar.dsp.filter.high_shelve) and [`pyfar.dsp.filter.low_shelve`](https://pyfar.readthedocs.io/en/stable/modules/pyfar.dsp.filter.html#pyfar.dsp.filter.low_shelve) manipulate the magnitude response below or above a given characteristic frequency and the *notch* filters implemented in [`pyfar.dsp.filter.notch`](https://pyfar.readthedocs.io/en/stable/modules/pyfar.dsp.filter.html#pyfar.dsp.filter.notch) are very narrow band rejection filters.\n",
    "\n",
    "![Parametric equalizers](../../resources/filter_types_audio_filter_1.png)\n",
    "\n",
    "The *cascaded shelving* filters implemented in [`pyfar.dsp.filter.low_shelve_cascade`](https://pyfar.readthedocs.io/en/stable/modules/pyfar.dsp.filter.html#pyfar.dsp.filter.low_shelve_cascade) and\n",
    "[`pyfar.dsp.filter.high_shelve_cascade`](https://pyfar.readthedocs.io/en/stable/modules/pyfar.dsp.filter.html#pyfar.dsp.filter.high_shelve_cascade) shown on the right can be used\n",
    "to generate filters with a user definable slope given in dB per octaves within\n",
    "a certain frequency region. They are also termed *High-Schultz* and *Low-Shultz* filters to acknowledge one of their inventors Frank Schultz.\n",
    "\n",
    "![Parametric equalizers](../../resources/filter_types_audio_filter_2.png)\n"
   ]
  }
 ],
 "metadata": {
  "language_info": {
   "name": "python"
  }
 },
 "nbformat": 4,
 "nbformat_minor": 2
}
