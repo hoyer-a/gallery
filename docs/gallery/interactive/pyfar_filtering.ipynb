{
 "cells": [
  {
   "cell_type": "markdown",
   "metadata": {},
   "source": [
    "## Filtering pyfar Signals\n",
    "\n",
    "Filtering signals is a very common task in acoustics signal processing and pyfar provides three different `filter classes` for storing and applying filters\n",
    "\n",
    "- **FIR Filter:** Finite Impulse Response (FIR) filters are non-recursive filters. FIR filters are very flexible and can have arbitrary magnitude and phase responses. One example for an FIR filter is an impulse response.\n",
    "- **IIR Filter:** Infinite Impulse Response (IIR) filters are recursive filters. They can achieve steeper filter slopes than FIR filters of the same order but are less flexible with respect to the phase response.\n",
    "- **SOS Filter:** Second Order Section (SOS) filters are cascaded 2nd order recursive filters. They are often more robust against numerical errors than IIR filters of the same order and are thus the most common way of realizing IIR filters.\n",
    "\n",
    "From a users perspective the type of filter does not matter too much, because filtering works exactly the same for all three filter classes. The following examples show how to create and apply filter objects to audio signals using a simple IIR filter."
   ]
  },
  {
   "cell_type": "code",
   "execution_count": null,
   "metadata": {},
   "outputs": [],
   "source": [
    "import pyfar as pf\n",
    "import numpy as np\n",
    "%matplotlib inline"
   ]
  },
  {
   "cell_type": "markdown",
   "metadata": {},
   "source": [
    "### Filtering with `pyfar.dsp.filter`\n",
    "\n",
    "The *filter* module contains a variety of common filter functions including filter banks, bell, and shelve filters, as well as classic filter types such as low-passes and band-passes. See the `filter type` examples for an overview. Using the *filter* module is the simplest way to filter a pyfar Signal object. As the following example of a low-pass shows, the function in the *filter* module take a Signal object as their input and directly output the filtered Signal object."
   ]
  },
  {
   "cell_type": "code",
   "execution_count": null,
   "metadata": {},
   "outputs": [],
   "source": [
    "# impulse with 8 samples delay\n",
    "impulse = pf.signals.impulse(256, 8)\n",
    "\n",
    "# directly apply 8th oder low-pass at 2 kHz\n",
    "impulse_low_passed = pf.dsp.filter.butterworth(impulse, 8, 2000)\n",
    "\n",
    "# plot impulse before and after filtering\n",
    "ax = pf.plot.time_freq(impulse_low_passed, label='low-passed')\n",
    "ax = pf.plot.time_freq(impulse, c=[0, 0, 0, .5], ls='--', label='original')\n",
    "ax[1].legend()"
   ]
  },
  {
   "cell_type": "markdown",
   "metadata": {},
   "source": [
    "Note that the the functions can also return the Filter object itself. Directly using Filter objects offers more flexibility as the following examples illustrate."
   ]
  },
  {
   "cell_type": "markdown",
   "metadata": {},
   "source": [
    "### Creating a custom filter \n",
    "\n",
    "A filter object is initialized with the filter coefficients and a sampling rate. For example an IIR filter requires a set of b-coefficients and a-coefficients, like this simple comb filter example"
   ]
  },
  {
   "cell_type": "code",
   "execution_count": null,
   "metadata": {},
   "outputs": [],
   "source": [
    "# design filter coefficients\n",
    "b = [1, 0, 0]\n",
    "a = [1, 0, .95]\n",
    "coefficients = np.stack((b, a), 0)\n",
    "\n",
    "# create filter object\n",
    "comb_filter = pf.FilterIIR(coefficients, 44100)"
   ]
  },
  {
   "cell_type": "markdown",
   "metadata": {},
   "source": [
    "For convenience a summary of the filter can be obtained if it is printed"
   ]
  },
  {
   "cell_type": "code",
   "execution_count": null,
   "metadata": {},
   "outputs": [],
   "source": [
    "print(comb_filter)"
   ]
  },
  {
   "cell_type": "markdown",
   "metadata": {},
   "source": [
    "### Filtering a Signal with a Filter object\n",
    "\n",
    "To filter an audio signal, pass it to the filter's process function. As a simple example, lets filter an impulse signal and plot the result to inspect the filter"
   ]
  },
  {
   "cell_type": "code",
   "execution_count": null,
   "metadata": {},
   "outputs": [],
   "source": [
    "input = pf.signals.impulse(256)\n",
    "output = comb_filter.process(input)\n",
    "\n",
    "ax = pf.plot.time_freq(output, unit='samples')"
   ]
  },
  {
   "cell_type": "markdown",
   "metadata": {},
   "source": [
    "## Block-wise filtering\n",
    "\n",
    "For the above, output will be the same no matter how often `process` is called. This default behavior is often desired. In some cases, like block-wise filtering of a signal, the filter object can track the state of the filter. By default, the filter state is set to `None`, but a different state can be set at any time. This requires the `cshape` of the signal that will be filtered and the kind of state. "
   ]
  },
  {
   "cell_type": "code",
   "execution_count": null,
   "metadata": {},
   "outputs": [],
   "source": [
    "comb_filter.init_state(input.cshape, 'zeros')"
   ]
  },
  {
   "cell_type": "markdown",
   "metadata": {},
   "source": [
    "Now, the same result as above can be obtained in blockwise processing"
   ]
  },
  {
   "cell_type": "code",
   "execution_count": null,
   "metadata": {},
   "outputs": [],
   "source": [
    "block_1 = comb_filter.process(input[:, :128])  # compute first 128 samples\n",
    "block_2 = comb_filter.process(input[:, 128:])  # compute last 128 samples\n",
    "\n",
    "# plotting the time signals of both blocks\n",
    "ax = pf.plot.time(block_1, unit='samples', label='block 1')\n",
    "pf.plot.time(pf.TimeData(block_2.time, np.arange(128)+128), label='block 2')\n",
    "ax.legend()"
   ]
  },
  {
   "cell_type": "markdown",
   "metadata": {},
   "source": [
    "## Time-variant and block-wise filtering\n",
    "\n",
    "If tracking the state of a filter object is enabled as in the example above, a time-variant filter can be realized by changing the filter coefficients between calling the `pocess` function. Note that this however, only works if the order of the filter does not change."
   ]
  },
  {
   "cell_type": "code",
   "execution_count": null,
   "metadata": {},
   "outputs": [],
   "source": [
    "# design initial filter coefficients\n",
    "order = 100\n",
    "b = np.zeros(order + 1)\n",
    "b[0] = 1\n",
    "\n",
    "# create filter object\n",
    "comb_filter = pf.FilterIIR(np.stack((b, b), 0), 44100)\n",
    "comb_filter.init_state(input.cshape, 'zeros')\n",
    "\n",
    "# design input signal\n",
    "block_size = 1024\n",
    "input = pf.signals.noise(\n",
    "    order * block_size, sampling_rate=comb_filter.sampling_rate)\n",
    "\n",
    "# initialize output signal\n",
    "output = pf.Signal(np.zeros(input.n_samples), input.sampling_rate)\n",
    "\n",
    "for nn in range(1, order + 1):\n",
    "\n",
    "    # update filter coefficients: increase delay of recursive filter part by\n",
    "    # one in each block\n",
    "    comb_filter.coefficients[:, 1, nn] = .95\n",
    "    if nn > 1:\n",
    "        comb_filter.coefficients[:, 1, nn-1] = 0\n",
    "\n",
    "    # filter current block\n",
    "    block = comb_filter.process(input[:, nn*block_size:(nn+1)*block_size])\n",
    "\n",
    "    # write block to output signal\n",
    "    output.time[:, nn*block_size:(nn+1)*block_size] = block.time\n",
    "\n",
    "_ = pf.plot.spectrogram(output, window_length=block_size, freq_scale='log')\n"
   ]
  },
  {
   "cell_type": "markdown",
   "metadata": {},
   "source": [
    "The plot shows that increasing the delay of the in the recursive filter coefficients decreases the resonance frequency seen in the earlier plots and that new resonance frequencies start to emerge at frequencies that are multiples of the first resonance."
   ]
  },
  {
   "cell_type": "markdown",
   "metadata": {},
   "source": [
    "If you have `sounddevice` installed, you can listen to the output using\n",
    "\n",
    "```python\n",
    "import sounddevice as sd\n",
    "sd.play(pf.dsp.normalize(output).time.T, output.sampling_rate, blocking=True)\n",
    "```"
   ]
  }
 ],
 "metadata": {
  "kernelspec": {
   "display_name": "pyfar",
   "language": "python",
   "name": "python3"
  },
  "language_info": {
   "codemirror_mode": {
    "name": "ipython",
    "version": 3
   },
   "file_extension": ".py",
   "mimetype": "text/x-python",
   "name": "python",
   "nbconvert_exporter": "python",
   "pygments_lexer": "ipython3",
   "version": "3.11.7"
  }
 },
 "nbformat": 4,
 "nbformat_minor": 2
}
